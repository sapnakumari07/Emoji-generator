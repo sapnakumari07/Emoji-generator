{
  "nbformat": 4,
  "nbformat_minor": 0,
  "metadata": {
    "colab": {
      "provenance": [],
      "include_colab_link": true
    },
    "kernelspec": {
      "name": "python3",
      "display_name": "Python 3"
    },
    "language_info": {
      "name": "python"
    }
  },
  "cells": [
    {
      "cell_type": "markdown",
      "metadata": {
        "id": "view-in-github",
        "colab_type": "text"
      },
      "source": [
        "<a href=\"https://colab.research.google.com/github/sapnakumari07/Emoji-generator/blob/main/Untitled8.ipynb\" target=\"_parent\"><img src=\"https://colab.research.google.com/assets/colab-badge.svg\" alt=\"Open In Colab\"/></a>"
      ]
    },
    {
      "cell_type": "code",
      "execution_count": null,
      "metadata": {
        "colab": {
          "base_uri": "https://localhost:8080/"
        },
        "id": "nosp8Bi_y-Lm",
        "outputId": "5959f122-fa1d-4e91-8c02-093ddc434587"
      },
      "outputs": [
        {
          "output_type": "stream",
          "name": "stdout",
          "text": [
            "Enter the number of emojis you want in the combination: 21\n",
            "Your random emoji combination is: 🍕:apple:🐕😂😉:apple:🍨😀😂😢🐕😀😉🐄😢😂🍌🍨😂🍨🐕\n"
          ]
        }
      ],
      "source": [
        "import random\n",
        "import emoji\n",
        "\n",
        "# Define emoji categories\n",
        "faces = [emoji.emojize(':grinning_face:'), emoji.emojize(':smiling_face_with_sunglasses:'), emoji.emojize(':winking_face:'), emoji.emojize(':crying_face:'), emoji.emojize(':face_with_tears_of_joy:')]\n",
        "animals = [emoji.emojize(':dog:'), emoji.emojize(':cat:'), emoji.emojize(':mouse:'), emoji.emojize(':horse:'), emoji.emojize(':cow:')]\n",
        "food = [emoji.emojize(':apple:'), emoji.emojize(':banana:'), emoji.emojize(':pizza:'), emoji.emojize(':cake:'), emoji.emojize(':ice_cream:')]\n",
        "\n",
        "# Combine all categories into one list\n",
        "all_emojis = faces + animals + food\n",
        "\n",
        "# Function to generate random emoji combination\n",
        "def generate_random_emoji_combo(num_emojis=3):\n",
        "    return ''.join(random.choices(all_emojis, k=num_emojis))\n",
        "\n",
        "# Main function\n",
        "if __name__ == \"__main__\":\n",
        "    num_emojis = int(input(\"Enter the number of emojis you want in the combination: \"))\n",
        "    random_emoji_combo = generate_random_emoji_combo(num_emojis)\n",
        "    print(f\"Your random emoji combination is: {random_emoji_combo}\")\n"
      ]
    },
    {
      "cell_type": "code",
      "source": [
        "!pip install emoji"
      ],
      "metadata": {
        "colab": {
          "base_uri": "https://localhost:8080/"
        },
        "id": "DKVfooi34v3N",
        "outputId": "fd4c92c9-161e-454b-afa6-027dd6ec2f6a"
      },
      "execution_count": null,
      "outputs": [
        {
          "output_type": "stream",
          "name": "stdout",
          "text": [
            "Collecting emoji\n",
            "  Downloading emoji-2.12.1-py3-none-any.whl (431 kB)\n",
            "\u001b[?25l     \u001b[90m━━━━━━━━━━━━━━━━━━━━━━━━━━━━━━━━━━━━━━━━\u001b[0m \u001b[32m0.0/431.4 kB\u001b[0m \u001b[31m?\u001b[0m eta \u001b[36m-:--:--\u001b[0m\r\u001b[2K     \u001b[91m━━━━━━━━━━━━━━━━━━━━━━━━━━━━━━━━━━━━━━━\u001b[0m\u001b[91m╸\u001b[0m \u001b[32m430.1/431.4 kB\u001b[0m \u001b[31m14.5 MB/s\u001b[0m eta \u001b[36m0:00:01\u001b[0m\r\u001b[2K     \u001b[90m━━━━━━━━━━━━━━━━━━━━━━━━━━━━━━━━━━━━━━━━\u001b[0m \u001b[32m431.4/431.4 kB\u001b[0m \u001b[31m10.8 MB/s\u001b[0m eta \u001b[36m0:00:00\u001b[0m\n",
            "\u001b[?25hRequirement already satisfied: typing-extensions>=4.7.0 in /usr/local/lib/python3.10/dist-packages (from emoji) (4.11.0)\n",
            "Installing collected packages: emoji\n",
            "Successfully installed emoji-2.12.1\n"
          ]
        }
      ]
    }
  ]
}